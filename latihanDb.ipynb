{
 "cells": [
  {
   "cell_type": "code",
   "execution_count": 1,
   "metadata": {},
   "outputs": [],
   "source": [
    "import sqlite3\n",
    "\n",
    "# Connect to SQLite database\n",
    "conn = sqlite3.connect(\"example.db\")\n",
    "\n",
    "\n",
    "\n"
   ]
  },
  {
   "cell_type": "code",
   "execution_count": 3,
   "metadata": {},
   "outputs": [
    {
     "name": "stdout",
     "output_type": "stream",
     "text": [
      "(1, 'Alice', 5)\n",
      "(2, 'Bob', 71)\n",
      "(3, 'Charlie', 26)\n",
      "(4, 'David', 87)\n",
      "(5, 'Eve', 66)\n"
     ]
    }
   ],
   "source": [
    "import random\n",
    "# Create table\n",
    "cursor = conn.cursor()\n",
    "cursor.execute(\"\"\"\n",
    "CREATE TABLE IF NOT EXISTS student (\n",
    "    id INTEGER PRIMARY KEY AUTOINCREMENT,\n",
    "    name TEXT NOT NULL,\n",
    "    grade INTEGER NOT NULL\n",
    ")\n",
    "\"\"\")\n",
    "\n",
    "# Sample student names\n",
    "students = [\"Alice\", \"Bob\", \"Charlie\", \"David\", \"Eve\"]\n",
    "\n",
    "# Insert students with random grades (0-100)\n",
    "cursor.executemany(\n",
    "    \"INSERT INTO student (name, grade) VALUES (?, ?)\",\n",
    "    [(name, random.randint(0, 100)) for name in students]\n",
    ")\n",
    "\n",
    "# Commit and retrieve data\n",
    "conn.commit()\n",
    "\n",
    "# Fetch and print all students\n",
    "cursor.execute(\"SELECT * FROM student\")\n",
    "rows = cursor.fetchall()\n",
    "\n",
    "for row in rows:\n",
    "    print(row)\n",
    "\n",
    "# Close connection\n",
    "cursor.close()"
   ]
  },
  {
   "cell_type": "code",
   "execution_count": 6,
   "metadata": {},
   "outputs": [
    {
     "name": "stdout",
     "output_type": "stream",
     "text": [
      "(1, 'Alice', 5)\n",
      "(2, 'Bob', 71)\n",
      "(3, 'Charlie', 26)\n",
      "(4, 'David', 87)\n",
      "(5, 'Eve', 66)\n"
     ]
    }
   ],
   "source": [
    "cursor = conn.cursor()\n",
    "cursor.execute(\"SELECT * FROM student\")\n",
    "\n",
    "rows = cursor.fetchall()\n",
    "\n",
    "for row in rows:\n",
    "    print(row)\n",
    "\n",
    "# Close connection\n",
    "cursor.close()"
   ]
  },
  {
   "cell_type": "code",
   "execution_count": 15,
   "metadata": {},
   "outputs": [
    {
     "name": "stdout",
     "output_type": "stream",
     "text": [
      "(71, 4, 5)\n"
     ]
    }
   ],
   "source": [
    "cursor = conn.cursor()\n",
    "cursor.execute(\"\"\"\n",
    "   WITH Ordered AS (\n",
    "    SELECT grade,\n",
    "           ROW_NUMBER() OVER (ORDER BY grade) AS row_num,\n",
    "           COUNT(*) OVER () AS total_count\n",
    "    FROM student\n",
    ")\n",
    "SELECT * FROM Ordered\n",
    "WHERE row_num IN (3.5, 4);\n",
    "\"\"\")\n",
    "\n",
    "rows = cursor.fetchall()\n",
    "\n",
    "for row in rows:\n",
    "    print(row)\n",
    "\n",
    "# Close connection\n",
    "cursor.close()"
   ]
  },
  {
   "cell_type": "code",
   "execution_count": null,
   "metadata": {},
   "outputs": [],
   "source": []
  }
 ],
 "metadata": {
  "kernelspec": {
   "display_name": "Python 3",
   "language": "python",
   "name": "python3"
  },
  "language_info": {
   "codemirror_mode": {
    "name": "ipython",
    "version": 3
   },
   "file_extension": ".py",
   "mimetype": "text/x-python",
   "name": "python",
   "nbconvert_exporter": "python",
   "pygments_lexer": "ipython3",
   "version": "3.10.12"
  }
 },
 "nbformat": 4,
 "nbformat_minor": 2
}
